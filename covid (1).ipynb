{
 "cells": [
  {
   "cell_type": "code",
   "execution_count": 3,
   "id": "9ab822ad-185f-4b2d-99ae-4a3e37fd9b6d",
   "metadata": {},
   "outputs": [
    {
     "name": "stdout",
     "output_type": "stream",
     "text": [
      "Missing Values:\n",
      " fever            0\n",
      "bodyPain         0\n",
      "age              0\n",
      "runnyNose        0\n",
      "diffBreath       0\n",
      "infectionProb    0\n",
      "dtype: int64\n",
      "Epoch 1/10\n"
     ]
    },
    {
     "name": "stderr",
     "output_type": "stream",
     "text": [
      "C:\\Users\\Meghana R\\anaconda3\\Lib\\site-packages\\keras\\src\\layers\\core\\dense.py:87: UserWarning: Do not pass an `input_shape`/`input_dim` argument to a layer. When using Sequential models, prefer using an `Input(shape)` object as the first layer in the model instead.\n",
      "  super().__init__(activity_regularizer=activity_regularizer, **kwargs)\n"
     ]
    },
    {
     "name": "stdout",
     "output_type": "stream",
     "text": [
      "\u001b[1m1030/1030\u001b[0m \u001b[32m━━━━━━━━━━━━━━━━━━━━\u001b[0m\u001b[37m\u001b[0m \u001b[1m3s\u001b[0m 1ms/step - accuracy: 0.5169 - loss: 3.1914\n",
      "Epoch 2/10\n",
      "\u001b[1m1030/1030\u001b[0m \u001b[32m━━━━━━━━━━━━━━━━━━━━\u001b[0m\u001b[37m\u001b[0m \u001b[1m3s\u001b[0m 1ms/step - accuracy: 0.5050 - loss: 0.6939\n",
      "Epoch 3/10\n",
      "\u001b[1m1030/1030\u001b[0m \u001b[32m━━━━━━━━━━━━━━━━━━━━\u001b[0m\u001b[37m\u001b[0m \u001b[1m1s\u001b[0m 1ms/step - accuracy: 0.4869 - loss: 0.6938\n",
      "Epoch 4/10\n",
      "\u001b[1m1030/1030\u001b[0m \u001b[32m━━━━━━━━━━━━━━━━━━━━\u001b[0m\u001b[37m\u001b[0m \u001b[1m1s\u001b[0m 1ms/step - accuracy: 0.5137 - loss: 0.6930\n",
      "Epoch 5/10\n",
      "\u001b[1m1030/1030\u001b[0m \u001b[32m━━━━━━━━━━━━━━━━━━━━\u001b[0m\u001b[37m\u001b[0m \u001b[1m1s\u001b[0m 1ms/step - accuracy: 0.5028 - loss: 0.6933\n",
      "Epoch 6/10\n",
      "\u001b[1m1030/1030\u001b[0m \u001b[32m━━━━━━━━━━━━━━━━━━━━\u001b[0m\u001b[37m\u001b[0m \u001b[1m1s\u001b[0m 1ms/step - accuracy: 0.5161 - loss: 0.6931\n",
      "Epoch 7/10\n",
      "\u001b[1m1030/1030\u001b[0m \u001b[32m━━━━━━━━━━━━━━━━━━━━\u001b[0m\u001b[37m\u001b[0m \u001b[1m1s\u001b[0m 1ms/step - accuracy: 0.5101 - loss: 0.6932\n",
      "Epoch 8/10\n",
      "\u001b[1m1030/1030\u001b[0m \u001b[32m━━━━━━━━━━━━━━━━━━━━\u001b[0m\u001b[37m\u001b[0m \u001b[1m1s\u001b[0m 1ms/step - accuracy: 0.4906 - loss: 0.6932\n",
      "Epoch 9/10\n",
      "\u001b[1m1030/1030\u001b[0m \u001b[32m━━━━━━━━━━━━━━━━━━━━\u001b[0m\u001b[37m\u001b[0m \u001b[1m1s\u001b[0m 1ms/step - accuracy: 0.4894 - loss: 0.6935\n",
      "Epoch 10/10\n",
      "\u001b[1m1030/1030\u001b[0m \u001b[32m━━━━━━━━━━━━━━━━━━━━\u001b[0m\u001b[37m\u001b[0m \u001b[1m1s\u001b[0m 1ms/step - accuracy: 0.5041 - loss: 0.6932\n"
     ]
    },
    {
     "name": "stderr",
     "output_type": "stream",
     "text": [
      "WARNING:absl:You are saving your model as an HDF5 file via `model.save()` or `keras.saving.save_model(model)`. This file format is considered legacy. We recommend using instead the native Keras format, e.g. `model.save('my_model.keras')` or `keras.saving.save_model(model, 'my_model.keras')`. \n",
      "2024-12-25 16:30:33.167 \n",
      "  \u001b[33m\u001b[1mWarning:\u001b[0m to view this Streamlit app on a browser, run it with the following\n",
      "  command:\n",
      "\n",
      "    streamlit run C:\\Users\\Meghana R\\anaconda3\\Lib\\site-packages\\ipykernel_launcher.py [ARGUMENTS]\n"
     ]
    },
    {
     "name": "stdout",
     "output_type": "stream",
     "text": [
      "Model Accuracy: 52.04%\n"
     ]
    }
   ],
   "source": [
    "import numpy as np\n",
    "import pandas as pd\n",
    "import tensorflow as tf\n",
    "from tensorflow.keras.models import Sequential\n",
    "from tensorflow.keras.layers import Dense\n",
    "from sklearn.model_selection import train_test_split\n",
    "import streamlit as st\n",
    "\n",
    "# Load dataset\n",
    "df = pd.read_csv(\"C:\\\\Users\\\\Meghana R\\\\OneDrive\\\\Desktop\\\\magie\\\\covid-19 symptoms dataset.csv\")\n",
    "is_null = df.isna().sum()\n",
    "print(\"Missing Values:\\n\", is_null)\n",
    "\n",
    "# Features and target\n",
    "X = df.drop(\"infectionProb\", axis=1)\n",
    "y = df[\"infectionProb\"]\n",
    "\n",
    "# Convert to NumPy arrays\n",
    "X = np.array(X).astype(np.float32)\n",
    "y = np.array(y).astype(np.float32)\n",
    "\n",
    "# Split data into training and testing sets\n",
    "X_train, X_test, y_train, y_test = train_test_split(X, y, test_size=0.2, random_state=42)\n",
    "\n",
    "# Define and compile the model\n",
    "model = Sequential([\n",
    "    Dense(8, input_dim=X_train.shape[1], activation='relu'),\n",
    "    Dense(4, activation='relu'),\n",
    "    Dense(1, activation='sigmoid')  # Binary classification\n",
    "])\n",
    "model.compile(optimizer='adam', loss='binary_crossentropy', metrics=['accuracy'])\n",
    "\n",
    "# Train the model\n",
    "model.fit(X_train, y_train, epochs=10, batch_size=2)\n",
    "\n",
    "# Evaluate the model\n",
    "loss, accuracy = model.evaluate(X_test, y_test, verbose=0)\n",
    "print(f\"Model Accuracy: {accuracy * 100:.2f}%\")\n",
    "\n",
    "# Save the trained model\n",
    "model.save(\"covid_model.h5\")\n",
    "\n",
    "# Streamlit Web App\n",
    "st.title(\"COVID-19 Detection Web App\")\n",
    "st.write(\"Enter the symptoms to predict if a person has COVID-19:\")\n",
    "\n",
    "fever = st.selectbox(\"Fever (1 = Yes, 0 = No)\", [0, 1])\n",
    "cough = st.selectbox(\"Cough (1 = Yes, 0 = No)\", [0, 1])\n",
    "difficulty_breathing = st.selectbox(\"Difficulty Breathing (1 = Yes, 0 = No)\", [0, 1])\n",
    "\n",
    "if st.button(\"Predict COVID-19 Status\"):\n",
    "    # Load the saved model\n",
    "    model = tf.keras.models.load_model(\"covid_model.h5\")\n",
    "    \n",
    "    # Prepare input features\n",
    "    input_features = np.array([[fever, cough, difficulty_breathing]], dtype=np.float32)\n",
    "    prediction = model.predict(input_features, verbose=0)\n",
    "    prediction_class = \"COVID-19 Positive\" if prediction[0][0] > 0.5 else \"COVID-19 Negative\"\n",
    "\n",
    "    st.write(f\"The model predicts: {prediction_class}\")"
   ]
  },
  {
   "cell_type": "code",
   "execution_count": null,
   "id": "7b59cf31-5e15-4637-9230-22908f3b3a25",
   "metadata": {},
   "outputs": [],
   "source": []
  }
 ],
 "metadata": {
  "kernelspec": {
   "display_name": "Python 3 (ipykernel)",
   "language": "python",
   "name": "python3"
  },
  "language_info": {
   "codemirror_mode": {
    "name": "ipython",
    "version": 3
   },
   "file_extension": ".py",
   "mimetype": "text/x-python",
   "name": "python",
   "nbconvert_exporter": "python",
   "pygments_lexer": "ipython3",
   "version": "3.12.4"
  }
 },
 "nbformat": 4,
 "nbformat_minor": 5
}
